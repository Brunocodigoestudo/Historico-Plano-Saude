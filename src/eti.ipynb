{
 "cells": [
  {
   "cell_type": "code",
   "execution_count": 1,
   "metadata": {},
   "outputs": [],
   "source": [
    "import pandas as pd\n",
    "import os\n",
    "import glob\n",
    "from datetime import datetime, timedelta\n",
    "from google.cloud import bigquery\n",
    "from google.oauth2 import service_account"
   ]
  },
  {
   "cell_type": "markdown",
   "metadata": {},
   "source": [
    "Extração e Integração de Dados na Camada Bronze com BigQuery"
   ]
  },
  {
   "cell_type": "code",
   "execution_count": 2,
   "metadata": {},
   "outputs": [
    {
     "name": "stdout",
     "output_type": "stream",
     "text": [
      "Dados brutos carregados na tabela bronze: case-saude.bronze.tb_bronze\n"
     ]
    }
   ],
   "source": [
    "# Definir o caminho das credenciais\n",
    "os.environ[\"GOOGLE_APPLICATION_CREDENTIALS\"] = r\"C:\\Users\\Bruno\\Downloads\\case-saude-6a6b66a8d83a.json\"\n",
    "\n",
    "# Função para extrair dados do CSV\n",
    "def extrair_dados(arquivo_csv: str) -> pd.DataFrame:\n",
    "    df = pd.read_csv(arquivo_csv, \n",
    "                     encoding='ISO-8859-1', \n",
    "                     sep=';',  \n",
    "                     on_bad_lines='skip', \n",
    "                     low_memory=False)\n",
    "    \n",
    "    # Tratar o nome da coluna para o formato correto\n",
    "    df.rename(columns={\"#ID_PLANO\": \"ID_PLANO\"}, inplace=True)\n",
    "    \n",
    "    return df\n",
    "\n",
    "# Função para carregar os dados brutos na tabela bronze\n",
    "def carregar_dados_bronze(df: pd.DataFrame, tabela_bronze: str) -> None:\n",
    "    client = bigquery.Client()\n",
    "    \n",
    "    # Carregar dados no BigQuery\n",
    "    job = client.load_table_from_dataframe(df, tabela_bronze)\n",
    "    \n",
    "    job.result()  # Aguarda a conclusão do carregamento\n",
    "    print(f\"Dados brutos carregados na tabela bronze: {tabela_bronze}\")\n",
    "\n",
    "# Definir o caminho do arquivo CSV\n",
    "arquivo_csv = r\"C:\\Users\\Bruno\\Desktop\\projetos_engenharia\\Histórico de Planos de Saúde\\src\\data\\HISTORICO_PLANOS.csv\"\n",
    "\n",
    "# Extrair os dados do CSV\n",
    "df_bronze = extrair_dados(arquivo_csv)\n",
    "\n",
    "# Carregar os dados para a tabela tb_bronze no dataset bronze\n",
    "carregar_dados_bronze(df_bronze, 'case-saude.bronze.tb_bronze')\n"
   ]
  },
  {
   "cell_type": "markdown",
   "metadata": {},
   "source": [
    "Transformação e Integração de Dados na Camada Ouro com BigQuery"
   ]
  },
  {
   "cell_type": "code",
   "execution_count": 78,
   "metadata": {},
   "outputs": [
    {
     "name": "stdout",
     "output_type": "stream",
     "text": [
      "Dados transformados carregados na tabela ouro: case-saude.ouro.tb_ouro\n"
     ]
    }
   ],
   "source": [
    "def transformacao_df(df: pd.DataFrame) -> pd.DataFrame:\n",
    "    # Renomeia as colunas\n",
    "    df = df.rename(columns={\n",
    "        'DE_SITUACAO_PRINCIPAL': 'Situacao',\n",
    "        'ID_PLANO': 'ID_Planos',\n",
    "        'DT_INICIO_STATUS': 'Data_Inicio'\n",
    "    })\n",
    "    \n",
    "    # Converte a coluna de data para datetime\n",
    "    df['Data_Inicio'] = pd.to_datetime(df['Data_Inicio'], errors='coerce', dayfirst=True)\n",
    "    \n",
    "    # Filtra as colunas desejadas\n",
    "    df_filtrado = df[['ID_Planos', 'Data_Inicio', 'Situacao']]\n",
    "    \n",
    "    # Calcula a data de três meses atrás\n",
    "    data_tres_meses = datetime.now() - timedelta(days=90)\n",
    "    \n",
    "    # Filtra registros dos últimos 3 meses\n",
    "    df_filtrado = df_filtrado[df_filtrado['Data_Inicio'] >= data_tres_meses]\n",
    "    \n",
    "    # Filtra apenas situações \"ATIVO\" e \"CANCELADO\"\n",
    "    df_filtrado = df_filtrado.query(\"Situacao in ['ATIVO', 'CANCELADO']\")\n",
    "    \n",
    "    return df_filtrado\n",
    "\n",
    "# Função para carregar os dados transformados na tabela ouro\n",
    "def carregar_dados_ouro(df: pd.DataFrame, tabela_ouro: str) -> None:\n",
    "    client = bigquery.Client()\n",
    "\n",
    "   # Carregar dados no BigQuery\n",
    "    job = client.load_table_from_dataframe(df, tabela_ouro)\n",
    "    \n",
    "    job.result()  # Aguarda a conclusão do carregamento\n",
    "    print(f\"Dados transformados carregados na tabela ouro: {tabela_ouro}\")\n",
    "\n",
    "# Extrair os dados do CSV\n",
    "df_bronze = extrair_dados(arquivo_csv)\n",
    "\n",
    "# Aplicar a transformação\n",
    "df_ouro = transformacao_df(df_bronze)\n",
    "\n",
    "# Carregar os dados transformados para a tabela tb_ouro no dataset ouro\n",
    "carregar_dados_ouro(df_ouro, 'case-saude.ouro.tb_ouro')"
   ]
  }
 ],
 "metadata": {
  "kernelspec": {
   "display_name": ".venv",
   "language": "python",
   "name": "python3"
  },
  "language_info": {
   "codemirror_mode": {
    "name": "ipython",
    "version": 3
   },
   "file_extension": ".py",
   "mimetype": "text/x-python",
   "name": "python",
   "nbconvert_exporter": "python",
   "pygments_lexer": "ipython3",
   "version": "3.12.1"
  }
 },
 "nbformat": 4,
 "nbformat_minor": 2
}
